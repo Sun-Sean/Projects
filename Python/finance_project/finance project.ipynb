{
 "cells": [
  {
   "cell_type": "markdown",
   "metadata": {},
   "source": [
    "# Finance Project -- implementation of the Capital Asset Prizing Model"
   ]
  },
  {
   "cell_type": "markdown",
   "metadata": {},
   "source": [
    "### Import the necessary packages"
   ]
  },
  {
   "cell_type": "code",
   "execution_count": 33,
   "metadata": {},
   "outputs": [],
   "source": [
    "import pandas as pd\n",
    "import os\n",
    "import numpy as np\n",
    "from matplotlib import pyplot as plt"
   ]
  },
  {
   "cell_type": "code",
   "execution_count": 34,
   "metadata": {},
   "outputs": [
    {
     "name": "stdout",
     "output_type": "stream",
     "text": [
      "C:\\Users\\MWCL702\n"
     ]
    }
   ],
   "source": [
    "path = os.getcwd()\n",
    "print(path)"
   ]
  },
  {
   "cell_type": "markdown",
   "metadata": {},
   "source": [
    "### Import stock data"
   ]
  },
  {
   "cell_type": "code",
   "execution_count": 35,
   "metadata": {},
   "outputs": [
    {
     "data": {
      "text/html": [
       "<div>\n",
       "<style scoped>\n",
       "    .dataframe tbody tr th:only-of-type {\n",
       "        vertical-align: middle;\n",
       "    }\n",
       "\n",
       "    .dataframe tbody tr th {\n",
       "        vertical-align: top;\n",
       "    }\n",
       "\n",
       "    .dataframe thead th {\n",
       "        text-align: right;\n",
       "    }\n",
       "</style>\n",
       "<table border=\"1\" class=\"dataframe\">\n",
       "  <thead>\n",
       "    <tr style=\"text-align: right;\">\n",
       "      <th></th>\n",
       "      <th>Date</th>\n",
       "      <th>Adj Close</th>\n",
       "    </tr>\n",
       "  </thead>\n",
       "  <tbody>\n",
       "    <tr>\n",
       "      <th>0</th>\n",
       "      <td>2014-01-01</td>\n",
       "      <td>1782.589966</td>\n",
       "    </tr>\n",
       "    <tr>\n",
       "      <th>1</th>\n",
       "      <td>2014-02-01</td>\n",
       "      <td>1859.449951</td>\n",
       "    </tr>\n",
       "    <tr>\n",
       "      <th>2</th>\n",
       "      <td>2014-03-01</td>\n",
       "      <td>1872.339966</td>\n",
       "    </tr>\n",
       "    <tr>\n",
       "      <th>3</th>\n",
       "      <td>2014-04-01</td>\n",
       "      <td>1883.949951</td>\n",
       "    </tr>\n",
       "    <tr>\n",
       "      <th>4</th>\n",
       "      <td>2014-05-01</td>\n",
       "      <td>1923.569946</td>\n",
       "    </tr>\n",
       "  </tbody>\n",
       "</table>\n",
       "</div>"
      ],
      "text/plain": [
       "         Date    Adj Close\n",
       "0  2014-01-01  1782.589966\n",
       "1  2014-02-01  1859.449951\n",
       "2  2014-03-01  1872.339966\n",
       "3  2014-04-01  1883.949951\n",
       "4  2014-05-01  1923.569946"
      ]
     },
     "execution_count": 35,
     "metadata": {},
     "output_type": "execute_result"
    }
   ],
   "source": [
    "goog = pd.read_csv('GOOG.csv', header = 0, index_col = False, usecols = ['Date','Adj Close'])\n",
    "ko = pd.read_csv('KO_withdiv.csv', header = 0, index_col = False, usecols = ['Date','Adj Close'])\n",
    "sp500 = pd.read_csv('S&P500.csv',header = 0, index_col = False, usecols = ['Date','Adj Close'])\n",
    "sp500.head()"
   ]
  },
  {
   "cell_type": "markdown",
   "metadata": {},
   "source": [
    "### Rename the columns"
   ]
  },
  {
   "cell_type": "code",
   "execution_count": 36,
   "metadata": {},
   "outputs": [
    {
     "data": {
      "text/html": [
       "<div>\n",
       "<style scoped>\n",
       "    .dataframe tbody tr th:only-of-type {\n",
       "        vertical-align: middle;\n",
       "    }\n",
       "\n",
       "    .dataframe tbody tr th {\n",
       "        vertical-align: top;\n",
       "    }\n",
       "\n",
       "    .dataframe thead th {\n",
       "        text-align: right;\n",
       "    }\n",
       "</style>\n",
       "<table border=\"1\" class=\"dataframe\">\n",
       "  <thead>\n",
       "    <tr style=\"text-align: right;\">\n",
       "      <th></th>\n",
       "      <th>Date</th>\n",
       "      <th>p_t</th>\n",
       "    </tr>\n",
       "  </thead>\n",
       "  <tbody>\n",
       "    <tr>\n",
       "      <th>0</th>\n",
       "      <td>2014-01-01</td>\n",
       "      <td>1782.589966</td>\n",
       "    </tr>\n",
       "    <tr>\n",
       "      <th>1</th>\n",
       "      <td>2014-02-01</td>\n",
       "      <td>1859.449951</td>\n",
       "    </tr>\n",
       "    <tr>\n",
       "      <th>2</th>\n",
       "      <td>2014-03-01</td>\n",
       "      <td>1872.339966</td>\n",
       "    </tr>\n",
       "    <tr>\n",
       "      <th>3</th>\n",
       "      <td>2014-04-01</td>\n",
       "      <td>1883.949951</td>\n",
       "    </tr>\n",
       "    <tr>\n",
       "      <th>4</th>\n",
       "      <td>2014-05-01</td>\n",
       "      <td>1923.569946</td>\n",
       "    </tr>\n",
       "  </tbody>\n",
       "</table>\n",
       "</div>"
      ],
      "text/plain": [
       "         Date          p_t\n",
       "0  2014-01-01  1782.589966\n",
       "1  2014-02-01  1859.449951\n",
       "2  2014-03-01  1872.339966\n",
       "3  2014-04-01  1883.949951\n",
       "4  2014-05-01  1923.569946"
      ]
     },
     "execution_count": 36,
     "metadata": {},
     "output_type": "execute_result"
    }
   ],
   "source": [
    "ko.rename(columns={'Adj Close':'p_t'}, inplace = True)\n",
    "goog.rename(columns={'Adj Close':'p_t'}, inplace = True) #rename adj closing price to p_t\n",
    "sp500.rename(columns={'Adj Close':'p_t'}, inplace = True)\n",
    "sp500.head()"
   ]
  },
  {
   "cell_type": "markdown",
   "metadata": {},
   "source": [
    "### Dataframe organization"
   ]
  },
  {
   "cell_type": "code",
   "execution_count": 37,
   "metadata": {
    "scrolled": true
   },
   "outputs": [],
   "source": [
    "goog_price = goog.loc[0:59]\n",
    "goog_price = goog_price.rename(columns = {'p_t':'p_t-1'})\n",
    "emptyrow = pd.DataFrame(data = {'Date':[0],'p_t-1':[0]}) #create 0 row\n",
    "goog_price = emptyrow.append(goog_price)\n",
    "goog_price = goog_price.drop('Date', axis = 1)\n",
    "goog_price.index = range(0,61)\n",
    "goog = pd.concat([goog, goog_price], axis = 1)\n",
    "goog['return'] = round((goog['p_t'] - goog['p_t-1'])/goog['p_t-1'], 4 )\n",
    "goog = goog.drop(0, axis = 0)"
   ]
  },
  {
   "cell_type": "code",
   "execution_count": 38,
   "metadata": {
    "scrolled": true
   },
   "outputs": [],
   "source": [
    "ko_price = ko.loc[0:59]\n",
    "ko_price = ko_price.rename(columns = {'p_t':'p_t-1'})\n",
    "emptyrow = pd.DataFrame(data = {'Date':[0],'p_t-1':[0]}) #create 0 row\n",
    "ko_price = emptyrow.append(ko_price)\n",
    "ko_price = ko_price.drop(['Date'],axis = 1)\n",
    "ko_price.index = range(0,61)\n",
    "ko = pd.concat([ko, ko_price], axis = 1)\n",
    "ko['return'] = round((ko['p_t'] - ko['p_t-1'])/ko['p_t-1'], 4)\n",
    "ko = ko.drop(0, axis = 0)"
   ]
  },
  {
   "cell_type": "code",
   "execution_count": 39,
   "metadata": {},
   "outputs": [
    {
     "data": {
      "text/html": [
       "<div>\n",
       "<style scoped>\n",
       "    .dataframe tbody tr th:only-of-type {\n",
       "        vertical-align: middle;\n",
       "    }\n",
       "\n",
       "    .dataframe tbody tr th {\n",
       "        vertical-align: top;\n",
       "    }\n",
       "\n",
       "    .dataframe thead th {\n",
       "        text-align: right;\n",
       "    }\n",
       "</style>\n",
       "<table border=\"1\" class=\"dataframe\">\n",
       "  <thead>\n",
       "    <tr style=\"text-align: right;\">\n",
       "      <th></th>\n",
       "      <th>Date</th>\n",
       "      <th>p_t</th>\n",
       "      <th>p_t-1</th>\n",
       "      <th>return</th>\n",
       "    </tr>\n",
       "  </thead>\n",
       "  <tbody>\n",
       "    <tr>\n",
       "      <th>1</th>\n",
       "      <td>2014-02-01</td>\n",
       "      <td>1859.449951</td>\n",
       "      <td>1782.589966</td>\n",
       "      <td>0.0431</td>\n",
       "    </tr>\n",
       "    <tr>\n",
       "      <th>2</th>\n",
       "      <td>2014-03-01</td>\n",
       "      <td>1872.339966</td>\n",
       "      <td>1859.449951</td>\n",
       "      <td>0.0069</td>\n",
       "    </tr>\n",
       "    <tr>\n",
       "      <th>3</th>\n",
       "      <td>2014-04-01</td>\n",
       "      <td>1883.949951</td>\n",
       "      <td>1872.339966</td>\n",
       "      <td>0.0062</td>\n",
       "    </tr>\n",
       "    <tr>\n",
       "      <th>4</th>\n",
       "      <td>2014-05-01</td>\n",
       "      <td>1923.569946</td>\n",
       "      <td>1883.949951</td>\n",
       "      <td>0.0210</td>\n",
       "    </tr>\n",
       "    <tr>\n",
       "      <th>5</th>\n",
       "      <td>2014-06-01</td>\n",
       "      <td>1960.229980</td>\n",
       "      <td>1923.569946</td>\n",
       "      <td>0.0191</td>\n",
       "    </tr>\n",
       "  </tbody>\n",
       "</table>\n",
       "</div>"
      ],
      "text/plain": [
       "         Date          p_t        p_t-1  return\n",
       "1  2014-02-01  1859.449951  1782.589966  0.0431\n",
       "2  2014-03-01  1872.339966  1859.449951  0.0069\n",
       "3  2014-04-01  1883.949951  1872.339966  0.0062\n",
       "4  2014-05-01  1923.569946  1883.949951  0.0210\n",
       "5  2014-06-01  1960.229980  1923.569946  0.0191"
      ]
     },
     "execution_count": 39,
     "metadata": {},
     "output_type": "execute_result"
    }
   ],
   "source": [
    "sp500_price = sp500.loc[0:59]\n",
    "sp500_price = sp500_price.rename(columns = {'p_t':'p_t-1'})\n",
    "emptyrow = pd.DataFrame(data = {'Date':[0],'p_t-1':[0]}) #create 0 row\n",
    "sp500_price = emptyrow.append(sp500_price)\n",
    "sp500_price = sp500_price.drop('Date', axis = 1)\n",
    "sp500_price.index = range(0,61)\n",
    "sp500 = pd.concat([sp500, sp500_price], axis = 1)\n",
    "sp500['return'] = round((sp500['p_t'] - sp500['p_t-1'])/sp500['p_t-1'], 4 )\n",
    "sp500 = sp500.drop(0, axis = 0)\n",
    "sp500.head()"
   ]
  },
  {
   "cell_type": "code",
   "execution_count": 40,
   "metadata": {},
   "outputs": [
    {
     "name": "stdout",
     "output_type": "stream",
     "text": [
      "C:\\Users\\MWCL702\n"
     ]
    }
   ],
   "source": [
    "print(os.getcwd())"
   ]
  },
  {
   "cell_type": "markdown",
   "metadata": {},
   "source": [
    "### Export organized dataframes"
   ]
  },
  {
   "cell_type": "code",
   "execution_count": 41,
   "metadata": {},
   "outputs": [],
   "source": [
    "#goog.to_csv('goog_return.csv',index = True, header = True)\n",
    "\n",
    "#ko.to_csv('ko_return.csv',index = True, header = True)\n",
    "\n",
    "#sp500.to_csv('sp_return.csv',index = True, header = True)"
   ]
  },
  {
   "cell_type": "markdown",
   "metadata": {},
   "source": [
    "### Calculation of mean, standard deviation for the return "
   ]
  },
  {
   "cell_type": "code",
   "execution_count": 42,
   "metadata": {
    "scrolled": true
   },
   "outputs": [],
   "source": [
    "mean_std_goog = goog['return'].agg(['mean','std'])\n",
    "mean_std_ko = ko['return'].agg(['mean','std'])"
   ]
  },
  {
   "cell_type": "markdown",
   "metadata": {},
   "source": [
    "### Print out the correlation coefficient for the return of the two stocks"
   ]
  },
  {
   "cell_type": "code",
   "execution_count": 43,
   "metadata": {},
   "outputs": [
    {
     "name": "stdout",
     "output_type": "stream",
     "text": [
      "correlation is 0.3555\n",
      "googl \n",
      "mean    0.012340\n",
      "std     0.058155\n",
      "Name: return, dtype: float64\n",
      "ko \n",
      "mean    0.007427\n",
      "std     0.037702\n",
      "Name: return, dtype: float64\n"
     ]
    }
   ],
   "source": [
    "print('correlation is ',round(goog['return'].corr(ko['return']), 4),'\\ngoogl \\n', mean_std_goog,'\\nko \\n',mean_std_ko ,sep = \"\")"
   ]
  },
  {
   "cell_type": "code",
   "execution_count": 44,
   "metadata": {},
   "outputs": [],
   "source": [
    "portfolio_ratio = np.arange(0,1.05,0.05)\n",
    "ko_mean = ko['return'].mean()\n",
    "ko_std = ko['return'].std()\n",
    "goog_mean = goog['return'].mean()\n",
    "goog_std = goog['return'].std()\n",
    "sp500_mean = sp500['return'].mean()\n",
    "sp500_std = sp500['return'].std()\n",
    "corr_ko_goog = goog['return'].corr(ko['return'])"
   ]
  },
  {
   "cell_type": "markdown",
   "metadata": {},
   "source": [
    "### Create a dataframe for the stock portfolio"
   ]
  },
  {
   "cell_type": "code",
   "execution_count": 58,
   "metadata": {},
   "outputs": [
    {
     "data": {
      "text/html": [
       "<div>\n",
       "<style scoped>\n",
       "    .dataframe tbody tr th:only-of-type {\n",
       "        vertical-align: middle;\n",
       "    }\n",
       "\n",
       "    .dataframe tbody tr th {\n",
       "        vertical-align: top;\n",
       "    }\n",
       "\n",
       "    .dataframe thead th {\n",
       "        text-align: right;\n",
       "    }\n",
       "</style>\n",
       "<table border=\"1\" class=\"dataframe\">\n",
       "  <thead>\n",
       "    <tr style=\"text-align: right;\">\n",
       "      <th></th>\n",
       "      <th>ko_ratio</th>\n",
       "      <th>goog_ratio</th>\n",
       "      <th>portfolio_mean</th>\n",
       "      <th>portfolio_var</th>\n",
       "      <th>portfolio_std</th>\n",
       "    </tr>\n",
       "  </thead>\n",
       "  <tbody>\n",
       "    <tr>\n",
       "      <th>0</th>\n",
       "      <td>0.00</td>\n",
       "      <td>1.00</td>\n",
       "      <td>0.0123</td>\n",
       "      <td>0.003382</td>\n",
       "      <td>0.0582</td>\n",
       "    </tr>\n",
       "    <tr>\n",
       "      <th>1</th>\n",
       "      <td>0.05</td>\n",
       "      <td>0.95</td>\n",
       "      <td>0.0121</td>\n",
       "      <td>0.003130</td>\n",
       "      <td>0.0559</td>\n",
       "    </tr>\n",
       "    <tr>\n",
       "      <th>2</th>\n",
       "      <td>0.10</td>\n",
       "      <td>0.90</td>\n",
       "      <td>0.0118</td>\n",
       "      <td>0.002894</td>\n",
       "      <td>0.0538</td>\n",
       "    </tr>\n",
       "    <tr>\n",
       "      <th>3</th>\n",
       "      <td>0.15</td>\n",
       "      <td>0.85</td>\n",
       "      <td>0.0116</td>\n",
       "      <td>0.002674</td>\n",
       "      <td>0.0517</td>\n",
       "    </tr>\n",
       "    <tr>\n",
       "      <th>4</th>\n",
       "      <td>0.20</td>\n",
       "      <td>0.80</td>\n",
       "      <td>0.0114</td>\n",
       "      <td>0.002471</td>\n",
       "      <td>0.0497</td>\n",
       "    </tr>\n",
       "  </tbody>\n",
       "</table>\n",
       "</div>"
      ],
      "text/plain": [
       "   ko_ratio  goog_ratio  portfolio_mean  portfolio_var  portfolio_std\n",
       "0      0.00        1.00          0.0123       0.003382         0.0582\n",
       "1      0.05        0.95          0.0121       0.003130         0.0559\n",
       "2      0.10        0.90          0.0118       0.002894         0.0538\n",
       "3      0.15        0.85          0.0116       0.002674         0.0517\n",
       "4      0.20        0.80          0.0114       0.002471         0.0497"
      ]
     },
     "execution_count": 58,
     "metadata": {},
     "output_type": "execute_result"
    }
   ],
   "source": [
    "portfolio = pd.DataFrame(data= {'ko_ratio':portfolio_ratio})\n",
    "portfolio['goog_ratio'] = 1 - portfolio['ko_ratio']\n",
    "portfolio['portfolio_mean'] = round(ko_mean * portfolio['ko_ratio'] + goog_mean * portfolio['goog_ratio'], 4)\n",
    "portfolio['portfolio_var'] = (ko_std  * portfolio['ko_ratio'] )**2 + (goog_std * portfolio['goog_ratio'] )**2 + 2 * portfolio['ko_ratio'] * portfolio['goog_ratio'] * corr_ko_goog * goog_std * ko_std\n",
    "portfolio['portfolio_std'] = round((portfolio['portfolio_var']) ** 0.5, 4)\n",
    "portfolio.head()"
   ]
  },
  {
   "cell_type": "code",
   "execution_count": 46,
   "metadata": {},
   "outputs": [],
   "source": [
    "#portfolio.to_csv('portfolio.csv',index = True, header = True)"
   ]
  },
  {
   "cell_type": "code",
   "execution_count": 47,
   "metadata": {
    "scrolled": true
   },
   "outputs": [
    {
     "data": {
      "image/png": "[encoded data removed]",
      "text/plain": [
       "<Figure size 432x288 with 1 Axes>"
      ]
     },
     "metadata": {
      "needs_background": "light"
     },
     "output_type": "display_data"
    }
   ],
   "source": [
    "plot_port = portfolio.plot.scatter(x = 'portfolio_std', y = 'portfolio_mean')\n",
    "plot_port\n",
    "#plt.savefig('portfolio.png')"
   ]
  },
  {
   "cell_type": "code",
   "execution_count": 48,
   "metadata": {
    "scrolled": true
   },
   "outputs": [
    {
     "data": {
      "text/plain": [
       "0.0787"
      ]
     },
     "execution_count": 48,
     "metadata": {},
     "output_type": "execute_result"
    }
   ],
   "source": [
    "sp500.loc[60,'return']"
   ]
  },
  {
   "cell_type": "code",
   "execution_count": 61,
   "metadata": {},
   "outputs": [],
   "source": [
    "sp500_ko_goog = pd.DataFrame(data = {'sp_500_r':sp500['return'],'ko_r':ko['return'],'goog_r':goog['return'] })"
   ]
  },
  {
   "cell_type": "code",
   "execution_count": 51,
   "metadata": {},
   "outputs": [],
   "source": [
    "cov_sp500_ko = sp500_ko_goog['sp_500_r'].cov(sp500_ko_goog['ko_r'])\n",
    "cov_sp500_goog = sp500_ko_goog['sp_500_r'].cov(sp500_ko_goog['goog_r'])"
   ]
  },
  {
   "cell_type": "code",
   "execution_count": 65,
   "metadata": {},
   "outputs": [
    {
     "data": {
      "text/latex": [
       "Calculation of $\\beta$  \n"
      ],
      "text/plain": [
       "<IPython.core.display.Latex object>"
      ]
     },
     "metadata": {},
     "output_type": "display_data"
    }
   ],
   "source": [
    "%%latex\n",
    "Calculation of $\\beta$  "
   ]
  },
  {
   "cell_type": "code",
   "execution_count": 52,
   "metadata": {},
   "outputs": [
    {
     "name": "stdout",
     "output_type": "stream",
     "text": [
      "beta of ko   is 0.5351\n",
      "beta of goog is 1.0369\n"
     ]
    }
   ],
   "source": [
    "beta_ko = round(cov_sp500_ko/(sp500_std)**2, 4) #round off to 4th decimal\n",
    "beta_goog = round(cov_sp500_goog/(sp500_std)**2, 4)\n",
    "print('beta of ko   is ',beta_ko,'\\n','beta of goog is ',beta_goog, sep = '')"
   ]
  },
  {
   "cell_type": "markdown",
   "metadata": {},
   "source": [
    "### Function for CAPM"
   ]
  },
  {
   "cell_type": "code",
   "execution_count": 53,
   "metadata": {},
   "outputs": [],
   "source": [
    "def capm(beta,mkt_r,r):\n",
    "    return(r + beta * (mkt_r - r))"
   ]
  },
  {
   "cell_type": "code",
   "execution_count": 54,
   "metadata": {},
   "outputs": [
    {
     "data": {
      "text/plain": [
       "0.00749"
      ]
     },
     "execution_count": 54,
     "metadata": {},
     "output_type": "execute_result"
    }
   ],
   "source": [
    "sp500_mean"
   ]
  },
  {
   "cell_type": "code",
   "execution_count": 55,
   "metadata": {},
   "outputs": [],
   "source": [
    "ko_2018_capm = round(capm(beta_ko, sp500_mean, 0.001),4)\n",
    "goog_2018_capm = round(capm(beta_goog, sp500_mean, 0.001),4)"
   ]
  },
  {
   "cell_type": "markdown",
   "metadata": {},
   "source": [
    "### Result"
   ]
  },
  {
   "cell_type": "code",
   "execution_count": 63,
   "metadata": {
    "scrolled": false
   },
   "outputs": [
    {
     "name": "stdout",
     "output_type": "stream",
     "text": [
      "expected return of ko at Dec.2018 is  0.0045 \n",
      "the true return is  0.0165\n"
     ]
    }
   ],
   "source": [
    "print('expected return of ko at Dec.2018 is ',ko_2018_capm,\"\\nthe true return is \",ko.loc[60,'return'])"
   ]
  },
  {
   "cell_type": "code",
   "execution_count": 62,
   "metadata": {
    "scrolled": true
   },
   "outputs": [
    {
     "name": "stdout",
     "output_type": "stream",
     "text": [
      "expected return of goog at Dec.2018 is  0.0077 \n",
      "the true return is  0.078\n"
     ]
    }
   ],
   "source": [
    "print('expected return of goog at Dec.2018 is ',goog_2018_capm,\"\\nthe true return is \",goog.loc[60,'return'])"
   ]
  }
 ],
 "metadata": {
  "kernelspec": {
   "display_name": "Python 3",
   "language": "python",
   "name": "python3"
  },
  "language_info": {
   "codemirror_mode": {
    "name": "ipython",
    "version": 3
   },
   "file_extension": ".py",
   "mimetype": "text/x-python",
   "name": "python",
   "nbconvert_exporter": "python",
   "pygments_lexer": "ipython3",
   "version": "3.7.3"
  }
 },
 "nbformat": 4,
 "nbformat_minor": 2
}
