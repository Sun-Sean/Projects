{
 "cells": [
  {
   "cell_type": "code",
   "execution_count": 1,
   "metadata": {},
   "outputs": [],
   "source": [
    "import pandas as pd\n",
    "import os\n",
    "import numpy as np\n",
    "from matplotlib import pyplot as plt"
   ]
  },
  {
   "cell_type": "code",
   "execution_count": 2,
   "metadata": {},
   "outputs": [
    {
     "name": "stdout",
     "output_type": "stream",
     "text": [
      "C:\\Users\\MWCL702\n"
     ]
    }
   ],
   "source": [
    "path = os.getcwd()\n",
    "print(path)"
   ]
  },
  {
   "cell_type": "code",
   "execution_count": 3,
   "metadata": {},
   "outputs": [],
   "source": [
    "goog = pd.read_csv('GOOG.csv', header = 0, index_col = False, usecols = ['Date','Adj Close'])\n",
    "ko = pd.read_csv('KO_withdiv.csv', header = 0, index_col = False, usecols = ['Date','Adj Close'])\n",
    "sp500 = pd.read_csv('S&P500.csv',header = 0, index_col = False, usecols = ['Date','Adj Close'])"
   ]
  },
  {
   "cell_type": "code",
   "execution_count": 4,
   "metadata": {},
   "outputs": [],
   "source": [
    "ko.rename(columns={'Adj Close':'p_t'}, inplace = True)\n",
    "goog.rename(columns={'Adj Close':'p_t'}, inplace = True) #rename adj closing price to p_t\n",
    "sp500.rename(columns={'Adj Close':'p_t'}, inplace = True)"
   ]
  },
  {
   "cell_type": "code",
   "execution_count": 5,
   "metadata": {
    "scrolled": true
   },
   "outputs": [],
   "source": [
    "goog_price = goog.loc[0:59]\n",
    "goog_price = goog_price.rename(columns = {'p_t':'p_t-1'})\n",
    "emptyrow = pd.DataFrame(data = {'Date':[0],'p_t-1':[0]}) #create 0 row\n",
    "goog_price = emptyrow.append(goog_price)\n",
    "goog_price = goog_price.drop('Date', axis = 1)\n",
    "goog_price.index = range(0,61)\n",
    "goog = pd.concat([goog, goog_price], axis = 1)\n",
    "goog['return'] = round((goog['p_t'] - goog['p_t-1'])/goog['p_t-1'], 4 )\n",
    "goog = goog.drop(0, axis = 0)"
   ]
  },
  {
   "cell_type": "code",
   "execution_count": 6,
   "metadata": {
    "scrolled": true
   },
   "outputs": [],
   "source": [
    "ko_price = ko.loc[0:59]\n",
    "ko_price = ko_price.rename(columns = {'p_t':'p_t-1'})\n",
    "emptyrow = pd.DataFrame(data = {'Date':[0],'p_t-1':[0]}) #create 0 row\n",
    "ko_price = emptyrow.append(ko_price)\n",
    "ko_price = ko_price.drop(['Date'],axis = 1)\n",
    "ko_price.index = range(0,61)\n",
    "ko = pd.concat([ko, ko_price], axis = 1)\n",
    "ko['return'] = round((ko['p_t'] - ko['p_t-1'])/ko['p_t-1'], 4)\n",
    "ko = ko.drop(0, axis = 0)"
   ]
  },
  {
   "cell_type": "code",
   "execution_count": 7,
   "metadata": {},
   "outputs": [],
   "source": [
    "sp500_price = sp500.loc[0:59]\n",
    "sp500_price = sp500_price.rename(columns = {'p_t':'p_t-1'})\n",
    "emptyrow = pd.DataFrame(data = {'Date':[0],'p_t-1':[0]}) #create 0 row\n",
    "sp500_price = emptyrow.append(sp500_price)\n",
    "sp500_price = sp500_price.drop('Date', axis = 1)\n",
    "sp500_price.index = range(0,61)\n",
    "sp500 = pd.concat([sp500, sp500_price], axis = 1)\n",
    "sp500['return'] = round((sp500['p_t'] - sp500['p_t-1'])/sp500['p_t-1'], 4 )\n",
    "sp500 = sp500.drop(0, axis = 0)"
   ]
  },
  {
   "cell_type": "code",
   "execution_count": 8,
   "metadata": {},
   "outputs": [
    {
     "name": "stdout",
     "output_type": "stream",
     "text": [
      "C:\\Users\\MWCL702\n"
     ]
    }
   ],
   "source": [
    "print(os.getcwd())"
   ]
  },
  {
   "cell_type": "code",
   "execution_count": 9,
   "metadata": {},
   "outputs": [],
   "source": [
    "goog.to_csv('goog_return.csv',index = True, header = True)"
   ]
  },
  {
   "cell_type": "code",
   "execution_count": 10,
   "metadata": {},
   "outputs": [],
   "source": [
    "ko.to_csv('ko_return.csv',index = True, header = True)"
   ]
  },
  {
   "cell_type": "code",
   "execution_count": 11,
   "metadata": {},
   "outputs": [],
   "source": [
    "sp500.to_csv('sp_return.csv',index = True, header = True)"
   ]
  },
  {
   "cell_type": "code",
   "execution_count": 12,
   "metadata": {
    "scrolled": true
   },
   "outputs": [],
   "source": [
    "mean_std_goog = goog['return'].agg(['mean','std'])\n",
    "mean_std_ko = ko['return'].agg(['mean','std'])"
   ]
  },
  {
   "cell_type": "code",
   "execution_count": 13,
   "metadata": {
    "scrolled": true
   },
   "outputs": [
    {
     "name": "stdout",
     "output_type": "stream",
     "text": [
      "correlation is 0.3555\n",
      "googl \n",
      "mean    0.012340\n",
      "std     0.058155\n",
      "Name: return, dtype: float64\n",
      "ko \n",
      "mean    0.007427\n",
      "std     0.037702\n",
      "Name: return, dtype: float64\n"
     ]
    }
   ],
   "source": [
    "print('correlation is ',round(goog['return'].corr(ko['return']), 4),'\\ngoogl \\n', mean_std_goog,'\\nko \\n',mean_std_ko ,sep = \"\")"
   ]
  },
  {
   "cell_type": "code",
   "execution_count": 14,
   "metadata": {},
   "outputs": [],
   "source": [
    "portfolio_ratio = np.arange(0,1.05,0.05)\n",
    "ko_mean = ko['return'].mean()\n",
    "ko_std = ko['return'].std()\n",
    "goog_mean = goog['return'].mean()\n",
    "goog_std = goog['return'].std()\n",
    "sp500_mean = sp500['return'].mean()\n",
    "sp500_std = sp500['return'].std()\n",
    "corr_ko_goog = goog['return'].corr(ko['return'])"
   ]
  },
  {
   "cell_type": "code",
   "execution_count": 15,
   "metadata": {},
   "outputs": [],
   "source": [
    "portfolio = pd.DataFrame(data= {'ko_ratio':portfolio_ratio})\n",
    "portfolio['goog_ratio'] = 1 - portfolio['ko_ratio']\n",
    "portfolio['portfolio_mean'] = round(ko_mean * portfolio['ko_ratio'] + goog_mean * portfolio['goog_ratio'], 4)\n",
    "portfolio['portfolio_var'] = (ko_std  * portfolio['ko_ratio'] )**2 + (goog_std * portfolio['goog_ratio'] )**2 + 2 * portfolio['ko_ratio'] * portfolio['goog_ratio'] * corr_ko_goog * goog_std * ko_std\n",
    "portfolio['portfolio_std'] = round((portfolio['portfolio_var']) ** 0.5, 4)"
   ]
  },
  {
   "cell_type": "code",
   "execution_count": 16,
   "metadata": {},
   "outputs": [],
   "source": [
    "portfolio\n",
    "portfolio.to_csv('portfolio.csv',index = True, header = True)"
   ]
  },
  {
   "cell_type": "code",
   "execution_count": 17,
   "metadata": {
    "scrolled": true
   },
   "outputs": [
    {
     "data": {
      "image/png": "[encoded data removed]",
      "text/plain": [
       "<Figure size 432x288 with 1 Axes>"
      ]
     },
     "metadata": {
      "needs_background": "light"
     },
     "output_type": "display_data"
    }
   ],
   "source": [
    "plot_port = portfolio.plot.scatter(x = 'portfolio_std', y = 'portfolio_mean')\n",
    "plot_port\n",
    "plt.savefig('portfolio.png')"
   ]
  },
  {
   "cell_type": "code",
   "execution_count": 18,
   "metadata": {},
   "outputs": [
    {
     "data": {
      "text/plain": [
       "0.0787"
      ]
     },
     "execution_count": 18,
     "metadata": {},
     "output_type": "execute_result"
    }
   ],
   "source": [
    "sp500.loc[60,'return']"
   ]
  },
  {
   "cell_type": "code",
   "execution_count": 19,
   "metadata": {},
   "outputs": [
    {
     "data": {
      "text/html": [
       "<div>\n",
       "<style scoped>\n",
       "    .dataframe tbody tr th:only-of-type {\n",
       "        vertical-align: middle;\n",
       "    }\n",
       "\n",
       "    .dataframe tbody tr th {\n",
       "        vertical-align: top;\n",
       "    }\n",
       "\n",
       "    .dataframe thead th {\n",
       "        text-align: right;\n",
       "    }\n",
       "</style>\n",
       "<table border=\"1\" class=\"dataframe\">\n",
       "  <thead>\n",
       "    <tr style=\"text-align: right;\">\n",
       "      <th></th>\n",
       "      <th>Date</th>\n",
       "      <th>p_t</th>\n",
       "      <th>p_t-1</th>\n",
       "      <th>return</th>\n",
       "    </tr>\n",
       "  </thead>\n",
       "  <tbody>\n",
       "    <tr>\n",
       "      <th>1</th>\n",
       "      <td>2014-02-01</td>\n",
       "      <td>1859.449951</td>\n",
       "      <td>1782.589966</td>\n",
       "      <td>0.0431</td>\n",
       "    </tr>\n",
       "    <tr>\n",
       "      <th>2</th>\n",
       "      <td>2014-03-01</td>\n",
       "      <td>1872.339966</td>\n",
       "      <td>1859.449951</td>\n",
       "      <td>0.0069</td>\n",
       "    </tr>\n",
       "    <tr>\n",
       "      <th>3</th>\n",
       "      <td>2014-04-01</td>\n",
       "      <td>1883.949951</td>\n",
       "      <td>1872.339966</td>\n",
       "      <td>0.0062</td>\n",
       "    </tr>\n",
       "    <tr>\n",
       "      <th>4</th>\n",
       "      <td>2014-05-01</td>\n",
       "      <td>1923.569946</td>\n",
       "      <td>1883.949951</td>\n",
       "      <td>0.0210</td>\n",
       "    </tr>\n",
       "    <tr>\n",
       "      <th>5</th>\n",
       "      <td>2014-06-01</td>\n",
       "      <td>1960.229980</td>\n",
       "      <td>1923.569946</td>\n",
       "      <td>0.0191</td>\n",
       "    </tr>\n",
       "    <tr>\n",
       "      <th>6</th>\n",
       "      <td>2014-07-01</td>\n",
       "      <td>1930.670044</td>\n",
       "      <td>1960.229980</td>\n",
       "      <td>-0.0151</td>\n",
       "    </tr>\n",
       "    <tr>\n",
       "      <th>7</th>\n",
       "      <td>2014-08-01</td>\n",
       "      <td>2003.369995</td>\n",
       "      <td>1930.670044</td>\n",
       "      <td>0.0377</td>\n",
       "    </tr>\n",
       "    <tr>\n",
       "      <th>8</th>\n",
       "      <td>2014-09-01</td>\n",
       "      <td>1972.290039</td>\n",
       "      <td>2003.369995</td>\n",
       "      <td>-0.0155</td>\n",
       "    </tr>\n",
       "    <tr>\n",
       "      <th>9</th>\n",
       "      <td>2014-10-01</td>\n",
       "      <td>2018.050049</td>\n",
       "      <td>1972.290039</td>\n",
       "      <td>0.0232</td>\n",
       "    </tr>\n",
       "    <tr>\n",
       "      <th>10</th>\n",
       "      <td>2014-11-01</td>\n",
       "      <td>2067.560059</td>\n",
       "      <td>2018.050049</td>\n",
       "      <td>0.0245</td>\n",
       "    </tr>\n",
       "    <tr>\n",
       "      <th>11</th>\n",
       "      <td>2014-12-01</td>\n",
       "      <td>2058.899902</td>\n",
       "      <td>2067.560059</td>\n",
       "      <td>-0.0042</td>\n",
       "    </tr>\n",
       "    <tr>\n",
       "      <th>12</th>\n",
       "      <td>2015-01-01</td>\n",
       "      <td>1994.989990</td>\n",
       "      <td>2058.899902</td>\n",
       "      <td>-0.0310</td>\n",
       "    </tr>\n",
       "    <tr>\n",
       "      <th>13</th>\n",
       "      <td>2015-02-01</td>\n",
       "      <td>2104.500000</td>\n",
       "      <td>1994.989990</td>\n",
       "      <td>0.0549</td>\n",
       "    </tr>\n",
       "    <tr>\n",
       "      <th>14</th>\n",
       "      <td>2015-03-01</td>\n",
       "      <td>2067.889893</td>\n",
       "      <td>2104.500000</td>\n",
       "      <td>-0.0174</td>\n",
       "    </tr>\n",
       "    <tr>\n",
       "      <th>15</th>\n",
       "      <td>2015-04-01</td>\n",
       "      <td>2085.510010</td>\n",
       "      <td>2067.889893</td>\n",
       "      <td>0.0085</td>\n",
       "    </tr>\n",
       "    <tr>\n",
       "      <th>16</th>\n",
       "      <td>2015-05-01</td>\n",
       "      <td>2107.389893</td>\n",
       "      <td>2085.510010</td>\n",
       "      <td>0.0105</td>\n",
       "    </tr>\n",
       "    <tr>\n",
       "      <th>17</th>\n",
       "      <td>2015-06-01</td>\n",
       "      <td>2063.110107</td>\n",
       "      <td>2107.389893</td>\n",
       "      <td>-0.0210</td>\n",
       "    </tr>\n",
       "    <tr>\n",
       "      <th>18</th>\n",
       "      <td>2015-07-01</td>\n",
       "      <td>2103.840088</td>\n",
       "      <td>2063.110107</td>\n",
       "      <td>0.0197</td>\n",
       "    </tr>\n",
       "    <tr>\n",
       "      <th>19</th>\n",
       "      <td>2015-08-01</td>\n",
       "      <td>1972.180054</td>\n",
       "      <td>2103.840088</td>\n",
       "      <td>-0.0626</td>\n",
       "    </tr>\n",
       "    <tr>\n",
       "      <th>20</th>\n",
       "      <td>2015-09-01</td>\n",
       "      <td>1920.030029</td>\n",
       "      <td>1972.180054</td>\n",
       "      <td>-0.0264</td>\n",
       "    </tr>\n",
       "    <tr>\n",
       "      <th>21</th>\n",
       "      <td>2015-10-01</td>\n",
       "      <td>2079.360107</td>\n",
       "      <td>1920.030029</td>\n",
       "      <td>0.0830</td>\n",
       "    </tr>\n",
       "    <tr>\n",
       "      <th>22</th>\n",
       "      <td>2015-11-01</td>\n",
       "      <td>2080.409912</td>\n",
       "      <td>2079.360107</td>\n",
       "      <td>0.0005</td>\n",
       "    </tr>\n",
       "    <tr>\n",
       "      <th>23</th>\n",
       "      <td>2015-12-01</td>\n",
       "      <td>2043.939941</td>\n",
       "      <td>2080.409912</td>\n",
       "      <td>-0.0175</td>\n",
       "    </tr>\n",
       "    <tr>\n",
       "      <th>24</th>\n",
       "      <td>2016-01-01</td>\n",
       "      <td>1940.239990</td>\n",
       "      <td>2043.939941</td>\n",
       "      <td>-0.0507</td>\n",
       "    </tr>\n",
       "    <tr>\n",
       "      <th>25</th>\n",
       "      <td>2016-02-01</td>\n",
       "      <td>1932.229980</td>\n",
       "      <td>1940.239990</td>\n",
       "      <td>-0.0041</td>\n",
       "    </tr>\n",
       "    <tr>\n",
       "      <th>26</th>\n",
       "      <td>2016-03-01</td>\n",
       "      <td>2059.739990</td>\n",
       "      <td>1932.229980</td>\n",
       "      <td>0.0660</td>\n",
       "    </tr>\n",
       "    <tr>\n",
       "      <th>27</th>\n",
       "      <td>2016-04-01</td>\n",
       "      <td>2065.300049</td>\n",
       "      <td>2059.739990</td>\n",
       "      <td>0.0027</td>\n",
       "    </tr>\n",
       "    <tr>\n",
       "      <th>28</th>\n",
       "      <td>2016-05-01</td>\n",
       "      <td>2096.949951</td>\n",
       "      <td>2065.300049</td>\n",
       "      <td>0.0153</td>\n",
       "    </tr>\n",
       "    <tr>\n",
       "      <th>29</th>\n",
       "      <td>2016-06-01</td>\n",
       "      <td>2098.860107</td>\n",
       "      <td>2096.949951</td>\n",
       "      <td>0.0009</td>\n",
       "    </tr>\n",
       "    <tr>\n",
       "      <th>30</th>\n",
       "      <td>2016-07-01</td>\n",
       "      <td>2173.600098</td>\n",
       "      <td>2098.860107</td>\n",
       "      <td>0.0356</td>\n",
       "    </tr>\n",
       "    <tr>\n",
       "      <th>31</th>\n",
       "      <td>2016-08-01</td>\n",
       "      <td>2170.949951</td>\n",
       "      <td>2173.600098</td>\n",
       "      <td>-0.0012</td>\n",
       "    </tr>\n",
       "    <tr>\n",
       "      <th>32</th>\n",
       "      <td>2016-09-01</td>\n",
       "      <td>2168.270020</td>\n",
       "      <td>2170.949951</td>\n",
       "      <td>-0.0012</td>\n",
       "    </tr>\n",
       "    <tr>\n",
       "      <th>33</th>\n",
       "      <td>2016-10-01</td>\n",
       "      <td>2126.149902</td>\n",
       "      <td>2168.270020</td>\n",
       "      <td>-0.0194</td>\n",
       "    </tr>\n",
       "    <tr>\n",
       "      <th>34</th>\n",
       "      <td>2016-11-01</td>\n",
       "      <td>2198.810059</td>\n",
       "      <td>2126.149902</td>\n",
       "      <td>0.0342</td>\n",
       "    </tr>\n",
       "    <tr>\n",
       "      <th>35</th>\n",
       "      <td>2016-12-01</td>\n",
       "      <td>2238.830078</td>\n",
       "      <td>2198.810059</td>\n",
       "      <td>0.0182</td>\n",
       "    </tr>\n",
       "    <tr>\n",
       "      <th>36</th>\n",
       "      <td>2017-01-01</td>\n",
       "      <td>2278.870117</td>\n",
       "      <td>2238.830078</td>\n",
       "      <td>0.0179</td>\n",
       "    </tr>\n",
       "    <tr>\n",
       "      <th>37</th>\n",
       "      <td>2017-02-01</td>\n",
       "      <td>2363.639893</td>\n",
       "      <td>2278.870117</td>\n",
       "      <td>0.0372</td>\n",
       "    </tr>\n",
       "    <tr>\n",
       "      <th>38</th>\n",
       "      <td>2017-03-01</td>\n",
       "      <td>2362.719971</td>\n",
       "      <td>2363.639893</td>\n",
       "      <td>-0.0004</td>\n",
       "    </tr>\n",
       "    <tr>\n",
       "      <th>39</th>\n",
       "      <td>2017-04-01</td>\n",
       "      <td>2384.199951</td>\n",
       "      <td>2362.719971</td>\n",
       "      <td>0.0091</td>\n",
       "    </tr>\n",
       "    <tr>\n",
       "      <th>40</th>\n",
       "      <td>2017-05-01</td>\n",
       "      <td>2411.800049</td>\n",
       "      <td>2384.199951</td>\n",
       "      <td>0.0116</td>\n",
       "    </tr>\n",
       "    <tr>\n",
       "      <th>41</th>\n",
       "      <td>2017-06-01</td>\n",
       "      <td>2423.409912</td>\n",
       "      <td>2411.800049</td>\n",
       "      <td>0.0048</td>\n",
       "    </tr>\n",
       "    <tr>\n",
       "      <th>42</th>\n",
       "      <td>2017-07-01</td>\n",
       "      <td>2470.300049</td>\n",
       "      <td>2423.409912</td>\n",
       "      <td>0.0193</td>\n",
       "    </tr>\n",
       "    <tr>\n",
       "      <th>43</th>\n",
       "      <td>2017-08-01</td>\n",
       "      <td>2471.649902</td>\n",
       "      <td>2470.300049</td>\n",
       "      <td>0.0005</td>\n",
       "    </tr>\n",
       "    <tr>\n",
       "      <th>44</th>\n",
       "      <td>2017-09-01</td>\n",
       "      <td>2519.360107</td>\n",
       "      <td>2471.649902</td>\n",
       "      <td>0.0193</td>\n",
       "    </tr>\n",
       "    <tr>\n",
       "      <th>45</th>\n",
       "      <td>2017-10-01</td>\n",
       "      <td>2575.260010</td>\n",
       "      <td>2519.360107</td>\n",
       "      <td>0.0222</td>\n",
       "    </tr>\n",
       "    <tr>\n",
       "      <th>46</th>\n",
       "      <td>2017-11-01</td>\n",
       "      <td>2584.840088</td>\n",
       "      <td>2575.260010</td>\n",
       "      <td>0.0037</td>\n",
       "    </tr>\n",
       "    <tr>\n",
       "      <th>47</th>\n",
       "      <td>2017-12-01</td>\n",
       "      <td>2673.610107</td>\n",
       "      <td>2584.840088</td>\n",
       "      <td>0.0343</td>\n",
       "    </tr>\n",
       "    <tr>\n",
       "      <th>48</th>\n",
       "      <td>2018-01-01</td>\n",
       "      <td>2823.810059</td>\n",
       "      <td>2673.610107</td>\n",
       "      <td>0.0562</td>\n",
       "    </tr>\n",
       "    <tr>\n",
       "      <th>49</th>\n",
       "      <td>2018-02-01</td>\n",
       "      <td>2713.830078</td>\n",
       "      <td>2823.810059</td>\n",
       "      <td>-0.0389</td>\n",
       "    </tr>\n",
       "    <tr>\n",
       "      <th>50</th>\n",
       "      <td>2018-03-01</td>\n",
       "      <td>2640.870117</td>\n",
       "      <td>2713.830078</td>\n",
       "      <td>-0.0269</td>\n",
       "    </tr>\n",
       "    <tr>\n",
       "      <th>51</th>\n",
       "      <td>2018-04-01</td>\n",
       "      <td>2648.050049</td>\n",
       "      <td>2640.870117</td>\n",
       "      <td>0.0027</td>\n",
       "    </tr>\n",
       "    <tr>\n",
       "      <th>52</th>\n",
       "      <td>2018-05-01</td>\n",
       "      <td>2705.270020</td>\n",
       "      <td>2648.050049</td>\n",
       "      <td>0.0216</td>\n",
       "    </tr>\n",
       "    <tr>\n",
       "      <th>53</th>\n",
       "      <td>2018-06-01</td>\n",
       "      <td>2718.370117</td>\n",
       "      <td>2705.270020</td>\n",
       "      <td>0.0048</td>\n",
       "    </tr>\n",
       "    <tr>\n",
       "      <th>54</th>\n",
       "      <td>2018-07-01</td>\n",
       "      <td>2816.290039</td>\n",
       "      <td>2718.370117</td>\n",
       "      <td>0.0360</td>\n",
       "    </tr>\n",
       "    <tr>\n",
       "      <th>55</th>\n",
       "      <td>2018-08-01</td>\n",
       "      <td>2901.520020</td>\n",
       "      <td>2816.290039</td>\n",
       "      <td>0.0303</td>\n",
       "    </tr>\n",
       "    <tr>\n",
       "      <th>56</th>\n",
       "      <td>2018-09-01</td>\n",
       "      <td>2913.979980</td>\n",
       "      <td>2901.520020</td>\n",
       "      <td>0.0043</td>\n",
       "    </tr>\n",
       "    <tr>\n",
       "      <th>57</th>\n",
       "      <td>2018-10-01</td>\n",
       "      <td>2711.739990</td>\n",
       "      <td>2913.979980</td>\n",
       "      <td>-0.0694</td>\n",
       "    </tr>\n",
       "    <tr>\n",
       "      <th>58</th>\n",
       "      <td>2018-11-01</td>\n",
       "      <td>2760.169922</td>\n",
       "      <td>2711.739990</td>\n",
       "      <td>0.0179</td>\n",
       "    </tr>\n",
       "    <tr>\n",
       "      <th>59</th>\n",
       "      <td>2018-12-01</td>\n",
       "      <td>2506.850098</td>\n",
       "      <td>2760.169922</td>\n",
       "      <td>-0.0918</td>\n",
       "    </tr>\n",
       "    <tr>\n",
       "      <th>60</th>\n",
       "      <td>2019-01-01</td>\n",
       "      <td>2704.100098</td>\n",
       "      <td>2506.850098</td>\n",
       "      <td>0.0787</td>\n",
       "    </tr>\n",
       "  </tbody>\n",
       "</table>\n",
       "</div>"
      ],
      "text/plain": [
       "          Date          p_t        p_t-1  return\n",
       "1   2014-02-01  1859.449951  1782.589966  0.0431\n",
       "2   2014-03-01  1872.339966  1859.449951  0.0069\n",
       "3   2014-04-01  1883.949951  1872.339966  0.0062\n",
       "4   2014-05-01  1923.569946  1883.949951  0.0210\n",
       "5   2014-06-01  1960.229980  1923.569946  0.0191\n",
       "6   2014-07-01  1930.670044  1960.229980 -0.0151\n",
       "7   2014-08-01  2003.369995  1930.670044  0.0377\n",
       "8   2014-09-01  1972.290039  2003.369995 -0.0155\n",
       "9   2014-10-01  2018.050049  1972.290039  0.0232\n",
       "10  2014-11-01  2067.560059  2018.050049  0.0245\n",
       "11  2014-12-01  2058.899902  2067.560059 -0.0042\n",
       "12  2015-01-01  1994.989990  2058.899902 -0.0310\n",
       "13  2015-02-01  2104.500000  1994.989990  0.0549\n",
       "14  2015-03-01  2067.889893  2104.500000 -0.0174\n",
       "15  2015-04-01  2085.510010  2067.889893  0.0085\n",
       "16  2015-05-01  2107.389893  2085.510010  0.0105\n",
       "17  2015-06-01  2063.110107  2107.389893 -0.0210\n",
       "18  2015-07-01  2103.840088  2063.110107  0.0197\n",
       "19  2015-08-01  1972.180054  2103.840088 -0.0626\n",
       "20  2015-09-01  1920.030029  1972.180054 -0.0264\n",
       "21  2015-10-01  2079.360107  1920.030029  0.0830\n",
       "22  2015-11-01  2080.409912  2079.360107  0.0005\n",
       "23  2015-12-01  2043.939941  2080.409912 -0.0175\n",
       "24  2016-01-01  1940.239990  2043.939941 -0.0507\n",
       "25  2016-02-01  1932.229980  1940.239990 -0.0041\n",
       "26  2016-03-01  2059.739990  1932.229980  0.0660\n",
       "27  2016-04-01  2065.300049  2059.739990  0.0027\n",
       "28  2016-05-01  2096.949951  2065.300049  0.0153\n",
       "29  2016-06-01  2098.860107  2096.949951  0.0009\n",
       "30  2016-07-01  2173.600098  2098.860107  0.0356\n",
       "31  2016-08-01  2170.949951  2173.600098 -0.0012\n",
       "32  2016-09-01  2168.270020  2170.949951 -0.0012\n",
       "33  2016-10-01  2126.149902  2168.270020 -0.0194\n",
       "34  2016-11-01  2198.810059  2126.149902  0.0342\n",
       "35  2016-12-01  2238.830078  2198.810059  0.0182\n",
       "36  2017-01-01  2278.870117  2238.830078  0.0179\n",
       "37  2017-02-01  2363.639893  2278.870117  0.0372\n",
       "38  2017-03-01  2362.719971  2363.639893 -0.0004\n",
       "39  2017-04-01  2384.199951  2362.719971  0.0091\n",
       "40  2017-05-01  2411.800049  2384.199951  0.0116\n",
       "41  2017-06-01  2423.409912  2411.800049  0.0048\n",
       "42  2017-07-01  2470.300049  2423.409912  0.0193\n",
       "43  2017-08-01  2471.649902  2470.300049  0.0005\n",
       "44  2017-09-01  2519.360107  2471.649902  0.0193\n",
       "45  2017-10-01  2575.260010  2519.360107  0.0222\n",
       "46  2017-11-01  2584.840088  2575.260010  0.0037\n",
       "47  2017-12-01  2673.610107  2584.840088  0.0343\n",
       "48  2018-01-01  2823.810059  2673.610107  0.0562\n",
       "49  2018-02-01  2713.830078  2823.810059 -0.0389\n",
       "50  2018-03-01  2640.870117  2713.830078 -0.0269\n",
       "51  2018-04-01  2648.050049  2640.870117  0.0027\n",
       "52  2018-05-01  2705.270020  2648.050049  0.0216\n",
       "53  2018-06-01  2718.370117  2705.270020  0.0048\n",
       "54  2018-07-01  2816.290039  2718.370117  0.0360\n",
       "55  2018-08-01  2901.520020  2816.290039  0.0303\n",
       "56  2018-09-01  2913.979980  2901.520020  0.0043\n",
       "57  2018-10-01  2711.739990  2913.979980 -0.0694\n",
       "58  2018-11-01  2760.169922  2711.739990  0.0179\n",
       "59  2018-12-01  2506.850098  2760.169922 -0.0918\n",
       "60  2019-01-01  2704.100098  2506.850098  0.0787"
      ]
     },
     "execution_count": 19,
     "metadata": {},
     "output_type": "execute_result"
    }
   ],
   "source": [
    "sp500"
   ]
  },
  {
   "cell_type": "code",
   "execution_count": 20,
   "metadata": {},
   "outputs": [],
   "source": [
    "sp500_ko_goog = pd.DataFrame(data = {'sp_500_r':sp500['return'],'ko_r':ko['return'],'goog_r':goog['return'] })"
   ]
  },
  {
   "cell_type": "code",
   "execution_count": 21,
   "metadata": {},
   "outputs": [],
   "source": [
    "cov_sp500_ko = sp500_ko_goog['sp_500_r'].cov(sp500_ko_goog['ko_r'])\n",
    "cov_sp500_goog = sp500_ko_goog['sp_500_r'].cov(sp500_ko_goog['goog_r'])"
   ]
  },
  {
   "cell_type": "code",
   "execution_count": 22,
   "metadata": {},
   "outputs": [
    {
     "name": "stdout",
     "output_type": "stream",
     "text": [
      "beta of ko   is 0.5351\n",
      "beta of goog is 1.0369\n"
     ]
    }
   ],
   "source": [
    "beta_ko = round(cov_sp500_ko/(sp500_std)**2, 4) #round off to 4th decimal\n",
    "beta_goog = round(cov_sp500_goog/(sp500_std)**2, 4)\n",
    "print('beta of ko   is ',beta_ko,'\\n','beta of goog is ',beta_goog, sep = '')"
   ]
  },
  {
   "cell_type": "code",
   "execution_count": 23,
   "metadata": {},
   "outputs": [],
   "source": [
    "def capm(beta,mkt_r,r):\n",
    "    return(r + beta * (mkt_r - r))"
   ]
  },
  {
   "cell_type": "code",
   "execution_count": 24,
   "metadata": {},
   "outputs": [
    {
     "data": {
      "text/plain": [
       "0.00749"
      ]
     },
     "execution_count": 24,
     "metadata": {},
     "output_type": "execute_result"
    }
   ],
   "source": [
    "sp500_mean"
   ]
  },
  {
   "cell_type": "code",
   "execution_count": 28,
   "metadata": {},
   "outputs": [],
   "source": [
    "ko_2018_capm = round(capm(beta_ko, sp500_mean, 0.001),4)\n",
    "goog_2018_capm = round(capm(beta_goog, sp500_mean, 0.001),4)"
   ]
  },
  {
   "cell_type": "code",
   "execution_count": 29,
   "metadata": {
    "scrolled": false
   },
   "outputs": [
    {
     "name": "stdout",
     "output_type": "stream",
     "text": [
      "expected return of ko at Dec.2008 is  0.0045 \n",
      "the true return is  0.0165\n"
     ]
    }
   ],
   "source": [
    "print('expected return of ko at Dec.2008 is ',ko_2018_capm,\"\\nthe true return is \",ko.loc[60,'return'])"
   ]
  },
  {
   "cell_type": "code",
   "execution_count": 30,
   "metadata": {
    "scrolled": true
   },
   "outputs": [
    {
     "name": "stdout",
     "output_type": "stream",
     "text": [
      "expected return of goog at Dec.2008 is  0.0077 \n",
      "the true return is  0.078\n"
     ]
    }
   ],
   "source": [
    "print('expected return of goog at Dec.2008 is ',goog_2018_capm,\"\\nthe true return is \",goog.loc[60,'return'])"
   ]
  }
 ],
 "metadata": {
  "kernelspec": {
   "display_name": "Python 3",
   "language": "python",
   "name": "python3"
  },
  "language_info": {
   "codemirror_mode": {
    "name": "ipython",
    "version": 3
   },
   "file_extension": ".py",
   "mimetype": "text/x-python",
   "name": "python",
   "nbconvert_exporter": "python",
   "pygments_lexer": "ipython3",
   "version": "3.7.3"
  }
 },
 "nbformat": 4,
 "nbformat_minor": 2
}
